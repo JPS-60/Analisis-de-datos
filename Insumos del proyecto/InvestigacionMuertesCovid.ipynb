{
  "nbformat": 4,
  "nbformat_minor": 0,
  "metadata": {
    "colab": {
      "provenance": []
    },
    "kernelspec": {
      "name": "python3",
      "display_name": "Python 3"
    },
    "language_info": {
      "name": "python"
    }
  },
  "cells": [
    {
      "cell_type": "markdown",
      "source": [
        "**Integrantes**\n",
        "\n",
        "Kendra Artavia Caballero\n",
        "\n",
        "Alexia Alvarado Alfaro\n",
        "\n",
        "Jose Soto Perez\n",
        "\n",
        "Johey Artavia Barrantes"
      ],
      "metadata": {
        "id": "VoPs5NyWAWeT"
      }
    },
    {
      "cell_type": "code",
      "execution_count": null,
      "metadata": {
        "colab": {
          "base_uri": "https://localhost:8080/"
        },
        "id": "ic14xUSFZyLr",
        "outputId": "faebd098-89f1-49c0-fd17-fd049e8ee4e0"
      },
      "outputs": [
        {
          "output_type": "stream",
          "name": "stdout",
          "text": [
            "Data 1\n",
            "          Country iso3  year  month       type  expected.mean  acm.mean  \\\n",
            "0     Afghanistan  AFG  2020      1  predicted          23088     23425   \n",
            "1     Afghanistan  AFG  2020      2  predicted          22412     22461   \n",
            "2     Afghanistan  AFG  2020      3  predicted          21921     20939   \n",
            "3     Afghanistan  AFG  2020      4  predicted          21207     20137   \n",
            "4     Afghanistan  AFG  2020      5  predicted          20485     21559   \n",
            "...           ...  ...   ...    ...        ...            ...       ...   \n",
            "4651     Zimbabwe  ZWE  2021      8  predicted           9716     11971   \n",
            "4652     Zimbabwe  ZWE  2021      9  predicted           9518     10292   \n",
            "4653     Zimbabwe  ZWE  2021     10  predicted           9385      9678   \n",
            "4654     Zimbabwe  ZWE  2021     11  predicted           9272      9584   \n",
            "4655     Zimbabwe  ZWE  2021     12  predicted           9363     11418   \n",
            "\n",
            "      excess.mean*  cumul.excess.mean*  cumul.excess.low*  cumul.excess.high*  \n",
            "0              337                 337              -5113                7462  \n",
            "1               49                 386              -7458                9907  \n",
            "2             -982                -596             -10256               10303  \n",
            "3            -1071               -1667             -13096               10996  \n",
            "4             1074                -593             -13315               14424  \n",
            "...            ...                 ...                ...                 ...  \n",
            "4651          2254               13120                709               26103  \n",
            "4652           774               13894                840               27202  \n",
            "4653           293               14187                166               27730  \n",
            "4654           311               14499                652               27871  \n",
            "4655          2054               16553               1835               30982  \n",
            "\n",
            "[4656 rows x 11 columns]\n",
            "Data 2\n",
            "          country iso3  year     sex age_group       type  expected.mean  \\\n",
            "0     Afghanistan  AFG  2020  Female      0-24  predicted          49084   \n",
            "1     Afghanistan  AFG  2020  Female     25-34  predicted           6453   \n",
            "2     Afghanistan  AFG  2020  Female     35-44  predicted           6118   \n",
            "3     Afghanistan  AFG  2020  Female     45-54  predicted           7712   \n",
            "4     Afghanistan  AFG  2020  Female     55-64  predicted          10062   \n",
            "...           ...  ...   ...     ...       ...        ...            ...   \n",
            "6203     Zimbabwe  ZWE  2021    Male     45-54  predicted           6475   \n",
            "6204     Zimbabwe  ZWE  2021    Male     55-64  predicted           5901   \n",
            "6205     Zimbabwe  ZWE  2021    Male     65-74  predicted           7714   \n",
            "6206     Zimbabwe  ZWE  2021    Male     75-84  predicted           4780   \n",
            "6207     Zimbabwe  ZWE  2021    Male       >85  predicted           1790   \n",
            "\n",
            "      acm.mean  excess.mean*  \n",
            "0        49103             0  \n",
            "1         6691           237  \n",
            "2         6977           860  \n",
            "3         9330          1622  \n",
            "4        12458          2401  \n",
            "...        ...           ...  \n",
            "6203      8091          1616  \n",
            "6204      7102          1201  \n",
            "6205      9016          1302  \n",
            "6206      5375           594  \n",
            "6207      2232           442  \n",
            "\n",
            "[6208 rows x 9 columns]\n",
            "Máximo: 1578937\n",
            "Mínimo: 0\n",
            "Suma: 126664598\n",
            "          Country iso3  year  month       type  expected.mean  acm.mean  \\\n",
            "0     Afghanistan  AFG  2020      1  predicted          23088     23425   \n",
            "1     Afghanistan  AFG  2020      2  predicted          22412     22461   \n",
            "2     Afghanistan  AFG  2020      3  predicted          21921     20939   \n",
            "3     Afghanistan  AFG  2020      4  predicted          21207     20137   \n",
            "4     Afghanistan  AFG  2020      5  predicted          20485     21559   \n",
            "...           ...  ...   ...    ...        ...            ...       ...   \n",
            "4639     Zimbabwe  ZWE  2020      8  predicted           9847     11046   \n",
            "4640     Zimbabwe  ZWE  2020      9  predicted           9648     10347   \n",
            "4641     Zimbabwe  ZWE  2020     10  predicted           9513      9798   \n",
            "4642     Zimbabwe  ZWE  2020     11  predicted           9405      9831   \n",
            "4643     Zimbabwe  ZWE  2020     12  predicted           9495     10247   \n",
            "\n",
            "      excess.mean*  cumul.excess.mean*  cumul.excess.low*  cumul.excess.high*  \n",
            "0              337                 337              -5113                7462  \n",
            "1               49                 386              -7458                9907  \n",
            "2             -982                -596             -10256               10303  \n",
            "3            -1071               -1667             -13096               10996  \n",
            "4             1074                -593             -13315               14424  \n",
            "...            ...                 ...                ...                 ...  \n",
            "4639          1199                  -2              -7280                7702  \n",
            "4640           699                 697              -6687                8918  \n",
            "4641           286                 983              -7048                9346  \n",
            "4642           426                1408              -7263               10162  \n",
            "4643           752                2161              -7038               11488  \n",
            "\n",
            "[2328 rows x 11 columns]\n",
            "              country iso3  year     sex age_group       type  expected.mean  \\\n",
            "6207         Zimbabwe  ZWE  2021    Male       >85  predicted           1790   \n",
            "4922  Solomon Islands  SLB  2021    Male     35-44  predicted            157   \n",
            "2554          Ireland  IRL  2021    Male     35-44   reported            390   \n",
            "2555          Ireland  IRL  2021    Male     45-54   reported            823   \n",
            "2556          Ireland  IRL  2021    Male     55-64   reported           1661   \n",
            "...               ...  ...   ...     ...       ...        ...            ...   \n",
            "2762           Jordan  JOR  2020    Male     35-44   reported            899   \n",
            "2763           Jordan  JOR  2020    Male     45-54   reported           2037   \n",
            "2764           Jordan  JOR  2020    Male     55-64   reported           3317   \n",
            "2765           Jordan  JOR  2020    Male     65-74   reported           3930   \n",
            "3104          Lebanon  LBN  2020  Female      0-24   reported           1235   \n",
            "\n",
            "      acm.mean  excess.mean*  \n",
            "6207      2232           442  \n",
            "4922       175            18  \n",
            "2554       422            32  \n",
            "2555       884            60  \n",
            "2556      1797           136  \n",
            "...        ...           ...  \n",
            "2762       971            71  \n",
            "2763      2394           357  \n",
            "2764      4124           809  \n",
            "2765      4916           988  \n",
            "3104      1434           179  \n",
            "\n",
            "[6208 rows x 9 columns]\n"
          ]
        }
      ],
      "source": [
        "import pandas as pd\n",
        "import matplotlib.pyplot as plt\n",
        "\n",
        "# country: Nombre pais.\n",
        "# iso3: Es una abreviacion de cada pais con 3 letras.\n",
        "# year: Año de muerte.\n",
        "# month: Mes de muerte.\n",
        "# sex: Sexo (Femenino o Masculino).\n",
        "# age_group: Grupo de edad por intervalos(0 a 24, 25 a 34, 35 a 44, ..., 85 o más).\n",
        "# type: Tipo de estimación para determinado año y mes (reportado o previsto)\n",
        "# expected.mean: Media de muertes esperadas (valor esperado teórico) por todas las causas por ubicación, año y mes.\n",
        "# acm.mean: Media de muertes estimadas (basado en datos reales recopilados) por todas las causas por ubicación, año y mes.\n",
        "# excess.mean*: Media de muertes en exceso asociadas con la pandemia de COVID-19 por todas las causas por ubicación, año y mes.\n",
        "\n",
        "\n",
        "df1 = pd.read_csv('WHO_COVID_Excess_Deaths_By_Year_Month_Sex_And_Age.csv')\n",
        "data1 = pd.DataFrame(df1)\n",
        "print(\"Data 1\")\n",
        "print(data1)\n",
        "\n",
        "\n",
        "\n",
        "\n"
      ]
    },
    {
      "cell_type": "markdown",
      "source": [
        "# Funciones en las tablas"
      ],
      "metadata": {
        "id": "UyZiuFPR-KxA"
      }
    },
    {
      "cell_type": "markdown",
      "source": [
        "Máximo de la columna expected.mean de dataframe #1\n",
        "\n",
        "---\n",
        "\n"
      ],
      "metadata": {
        "id": "4E-KLfNPBXHc"
      }
    },
    {
      "cell_type": "code",
      "source": [
        "max_value = data1['expected.mean'].max()\n",
        "print(\"Máximo para el data frame 1 de la columna expected.mean:\", max_value)"
      ],
      "metadata": {
        "id": "Ocbpzd0ncBa7",
        "colab": {
          "base_uri": "https://localhost:8080/"
        },
        "outputId": "d3efedaa-d6f4-48e8-d3a3-4a3f69c40361"
      },
      "execution_count": null,
      "outputs": [
        {
          "output_type": "stream",
          "name": "stdout",
          "text": [
            "Máximo para el data frame 2 de la columna expected.mean: 1578937\n"
          ]
        }
      ]
    },
    {
      "cell_type": "markdown",
      "source": [
        "Minimo de la columna expected.mean de dataframe #1\n",
        "\n",
        "---\n",
        "\n",
        "\n"
      ],
      "metadata": {
        "id": "Cz-Lp26tBltL"
      }
    },
    {
      "cell_type": "code",
      "source": [
        "min_value = data1['expected.mean'].min()\n",
        "print(\"Mínimo para el data frame 1 de la columna expected.mean:\", min_value)"
      ],
      "metadata": {
        "id": "gcfkXs_nBsUO",
        "outputId": "ddd7ac75-919e-4b45-b9f0-7e68b882d60c",
        "colab": {
          "base_uri": "https://localhost:8080/"
        }
      },
      "execution_count": null,
      "outputs": [
        {
          "output_type": "stream",
          "name": "stdout",
          "text": [
            "Mínimo para el data frame 2 de la columna expected.mean: 0\n"
          ]
        }
      ]
    },
    {
      "cell_type": "markdown",
      "source": [
        "Suma de la columa expected.mean de dataframe #1\n"
      ],
      "metadata": {
        "id": "4hJElc11B3lq"
      }
    },
    {
      "cell_type": "code",
      "source": [
        "suma = data1['acm.mean'].sum()\n",
        "print(\"Suma para el data frame 1 de la columna expected.mean:\", suma)"
      ],
      "metadata": {
        "id": "4MJdg8xOB6fS",
        "outputId": "dff8a2e4-55a1-44eb-82fe-0707fce8b307",
        "colab": {
          "base_uri": "https://localhost:8080/"
        }
      },
      "execution_count": null,
      "outputs": [
        {
          "output_type": "stream",
          "name": "stdout",
          "text": [
            "Suma para el data frame 1 de la columna expected.mean: 126664559\n"
          ]
        }
      ]
    },
    {
      "cell_type": "markdown",
      "source": [
        "Query del dataframe #1 cuando el año sea igual a 2020"
      ],
      "metadata": {
        "id": "k2Hn5m2nCAZD"
      }
    },
    {
      "cell_type": "code",
      "source": [
        "print(data1.query('year==2020'))"
      ],
      "metadata": {
        "id": "8JP7GcYcCGyR",
        "outputId": "66d3aa19-28aa-4e48-cdec-3e5d1b85c694",
        "colab": {
          "base_uri": "https://localhost:8080/"
        }
      },
      "execution_count": null,
      "outputs": [
        {
          "output_type": "stream",
          "name": "stdout",
          "text": [
            "          Country iso3  year  month       type  expected.mean  acm.mean  \\\n",
            "0     Afghanistan  AFG  2020      1  predicted          23088     23425   \n",
            "1     Afghanistan  AFG  2020      2  predicted          22412     22461   \n",
            "2     Afghanistan  AFG  2020      3  predicted          21921     20939   \n",
            "3     Afghanistan  AFG  2020      4  predicted          21207     20137   \n",
            "4     Afghanistan  AFG  2020      5  predicted          20485     21559   \n",
            "...           ...  ...   ...    ...        ...            ...       ...   \n",
            "4639     Zimbabwe  ZWE  2020      8  predicted           9847     11046   \n",
            "4640     Zimbabwe  ZWE  2020      9  predicted           9648     10347   \n",
            "4641     Zimbabwe  ZWE  2020     10  predicted           9513      9798   \n",
            "4642     Zimbabwe  ZWE  2020     11  predicted           9405      9831   \n",
            "4643     Zimbabwe  ZWE  2020     12  predicted           9495     10247   \n",
            "\n",
            "      excess.mean*  cumul.excess.mean*  cumul.excess.low*  cumul.excess.high*  \n",
            "0              337                 337              -5113                7462  \n",
            "1               49                 386              -7458                9907  \n",
            "2             -982                -596             -10256               10303  \n",
            "3            -1071               -1667             -13096               10996  \n",
            "4             1074                -593             -13315               14424  \n",
            "...            ...                 ...                ...                 ...  \n",
            "4639          1199                  -2              -7280                7702  \n",
            "4640           699                 697              -6687                8918  \n",
            "4641           286                 983              -7048                9346  \n",
            "4642           426                1408              -7263               10162  \n",
            "4643           752                2161              -7038               11488  \n",
            "\n",
            "[2328 rows x 11 columns]\n"
          ]
        }
      ]
    },
    {
      "cell_type": "markdown",
      "source": [
        "Orden ascendente del dataframe #2 segun el año de forman descendente"
      ],
      "metadata": {
        "id": "JqEnCz7TCMea"
      }
    },
    {
      "cell_type": "code",
      "source": [
        "print(data2.sort_values(by='year',ascending=False))"
      ],
      "metadata": {
        "id": "nZAxUjl_CQFJ",
        "outputId": "5a8ccfc4-f8e3-447f-8a47-a361e046293b",
        "colab": {
          "base_uri": "https://localhost:8080/"
        }
      },
      "execution_count": null,
      "outputs": [
        {
          "output_type": "stream",
          "name": "stdout",
          "text": [
            "              country iso3  year     sex age_group       type  expected.mean  \\\n",
            "6207         Zimbabwe  ZWE  2021    Male       >85  predicted           1790   \n",
            "4922  Solomon Islands  SLB  2021    Male     35-44  predicted            157   \n",
            "2554          Ireland  IRL  2021    Male     35-44   reported            390   \n",
            "2555          Ireland  IRL  2021    Male     45-54   reported            823   \n",
            "2556          Ireland  IRL  2021    Male     55-64   reported           1661   \n",
            "...               ...  ...   ...     ...       ...        ...            ...   \n",
            "2762           Jordan  JOR  2020    Male     35-44   reported            899   \n",
            "2763           Jordan  JOR  2020    Male     45-54   reported           2037   \n",
            "2764           Jordan  JOR  2020    Male     55-64   reported           3317   \n",
            "2765           Jordan  JOR  2020    Male     65-74   reported           3930   \n",
            "3104          Lebanon  LBN  2020  Female      0-24   reported           1235   \n",
            "\n",
            "      acm.mean  excess.mean*  \n",
            "6207      2232           442  \n",
            "4922       175            18  \n",
            "2554       422            32  \n",
            "2555       884            60  \n",
            "2556      1797           136  \n",
            "...        ...           ...  \n",
            "2762       971            71  \n",
            "2763      2394           357  \n",
            "2764      4124           809  \n",
            "2765      4916           988  \n",
            "3104      1434           179  \n",
            "\n",
            "[6208 rows x 9 columns]\n"
          ]
        }
      ]
    }
  ]
}