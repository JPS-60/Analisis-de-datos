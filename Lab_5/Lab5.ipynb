{
  "nbformat": 4,
  "nbformat_minor": 0,
  "metadata": {
    "colab": {
      "provenance": []
    },
    "kernelspec": {
      "name": "python3",
      "display_name": "Python 3"
    },
    "language_info": {
      "name": "python"
    }
  },
  "cells": [
    {
      "cell_type": "code",
      "execution_count": 5,
      "metadata": {
        "colab": {
          "base_uri": "https://localhost:8080/",
          "height": 34
        },
        "id": "CtG7L6pXgiPt",
        "outputId": "eff284d4-820e-4b2f-c8d5-2be53029b2b4"
      },
      "outputs": [
        {
          "output_type": "display_data",
          "data": {
            "text/plain": [
              "<IPython.core.display.Javascript object>"
            ],
            "application/javascript": [
              "\n",
              "    async function download(id, filename, size) {\n",
              "      if (!google.colab.kernel.accessAllowed) {\n",
              "        return;\n",
              "      }\n",
              "      const div = document.createElement('div');\n",
              "      const label = document.createElement('label');\n",
              "      label.textContent = `Downloading \"${filename}\": `;\n",
              "      div.appendChild(label);\n",
              "      const progress = document.createElement('progress');\n",
              "      progress.max = size;\n",
              "      div.appendChild(progress);\n",
              "      document.body.appendChild(div);\n",
              "\n",
              "      const buffers = [];\n",
              "      let downloaded = 0;\n",
              "\n",
              "      const channel = await google.colab.kernel.comms.open(id);\n",
              "      // Send a message to notify the kernel that we're ready.\n",
              "      channel.send({})\n",
              "\n",
              "      for await (const message of channel.messages) {\n",
              "        // Send a message to notify the kernel that we're ready.\n",
              "        channel.send({})\n",
              "        if (message.buffers) {\n",
              "          for (const buffer of message.buffers) {\n",
              "            buffers.push(buffer);\n",
              "            downloaded += buffer.byteLength;\n",
              "            progress.value = downloaded;\n",
              "          }\n",
              "        }\n",
              "      }\n",
              "      const blob = new Blob(buffers, {type: 'application/binary'});\n",
              "      const a = document.createElement('a');\n",
              "      a.href = window.URL.createObjectURL(blob);\n",
              "      a.download = filename;\n",
              "      div.appendChild(a);\n",
              "      a.click();\n",
              "      div.remove();\n",
              "    }\n",
              "  "
            ]
          },
          "metadata": {}
        },
        {
          "output_type": "display_data",
          "data": {
            "text/plain": [
              "<IPython.core.display.Javascript object>"
            ],
            "application/javascript": [
              "download(\"download_3611e81b-16a7-498e-9af9-b30b80a82d47\", \"Tokyo.html\", 3132)"
            ]
          },
          "metadata": {}
        },
        {
          "output_type": "stream",
          "name": "stdout",
          "text": [
            "La distancia entre las dos ubicaciones es de 13158.082783684225 km\n"
          ]
        }
      ],
      "source": [
        "from geopy.geocoders import Nominatim\n",
        "from google.colab import files\n",
        "from geopy.distance import geodesic\n",
        "import folium\n",
        "\n",
        "geolocator = Nominatim(user_agent = \"stemcoder\")\n",
        "\n",
        "Location1 = geolocator.geocode(\"Tokyo\")\n",
        "Location2 = geolocator.geocode(\"Costa Rica\")\n",
        "\n",
        "tokyo_map = folium.Map(location = [Location1.latitude, Location1.longitude], zoom_start = 7)\n",
        "tokyo_map.save(\"Tokyo.html\")\n",
        "files.download(\"Tokyo.html\")\n",
        "\n",
        "distance = geodesic((Location1.latitude, Location1.longitude), (Location2.latitude, Location2.longitude))\n",
        "print(f\"La distancia entre las dos ubicaciones es de {distance}\")"
      ]
    }
  ]
}